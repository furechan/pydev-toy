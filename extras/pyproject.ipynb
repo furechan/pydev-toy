{
 "cells": [
  {
   "cell_type": "code",
   "execution_count": 13,
   "metadata": {},
   "outputs": [],
   "source": [
    "import tomli\n",
    "import jmespath\n",
    "\n",
    "from pathlib import Path\n"
   ]
  },
  {
   "cell_type": "code",
   "execution_count": 14,
   "metadata": {},
   "outputs": [],
   "source": [
    "ROOT = Path().cwd().parent\n"
   ]
  },
  {
   "cell_type": "code",
   "execution_count": 15,
   "metadata": {},
   "outputs": [
    {
     "data": {
      "text/plain": [
       "{'build-system': {'requires': ['hatchling'],\n",
       "  'build-backend': 'hatchling.build'},\n",
       " 'project': {'name': 'pydev-toy',\n",
       "  'version': '0.0.10-1',\n",
       "  'readme': 'README.md',\n",
       "  'license': 'MIT',\n",
       "  'requires-python': '>=3.9',\n",
       "  'keywords': ['python', 'cli', 'project'],\n",
       "  'description': 'Command line util to manage python projects',\n",
       "  'urls': {'homepage': 'https://github.com/furechan/pydev-toy'},\n",
       "  'dependencies': ['click', 'tomli', 'jmespath', 'build', 'twine'],\n",
       "  'classifiers': ['Programming Language :: Python :: 3',\n",
       "   'Operating System :: OS Independent'],\n",
       "  'scripts': {'pydev': 'pydev:main'}},\n",
       " 'dependency-groups': {'dev': ['pytest', 'ipykernel', 'invoke']},\n",
       " 'tool': {'hatch': {'build': {'targets': {'wheel': {'sources': ['src']}},\n",
       "    'dev-mode-dirs': ['src'],\n",
       "    'only-include': ['src'],\n",
       "    'exclude': ['.*']}},\n",
       "  'pydev': {'allow-publish': True}}}"
      ]
     },
     "execution_count": 15,
     "metadata": {},
     "output_type": "execute_result"
    }
   ],
   "source": [
    "pyproject = ROOT.joinpath(\"pyproject.toml\")\n",
    "\n",
    "data = tomli.loads(pyproject.read_text())\n",
    "\n",
    "data"
   ]
  },
  {
   "cell_type": "code",
   "execution_count": 16,
   "metadata": {},
   "outputs": [
    {
     "data": {
      "text/plain": [
       "'0.0.10-1'"
      ]
     },
     "execution_count": 16,
     "metadata": {},
     "output_type": "execute_result"
    }
   ],
   "source": [
    "jmespath.search(\"project.version\", data)"
   ]
  },
  {
   "cell_type": "code",
   "execution_count": 20,
   "metadata": {},
   "outputs": [],
   "source": [
    "jmespath.search(\"unknown.key\", data) "
   ]
  },
  {
   "cell_type": "code",
   "execution_count": null,
   "metadata": {},
   "outputs": [],
   "source": []
  }
 ],
 "metadata": {
  "kernelspec": {
   "display_name": ".venv",
   "language": "python",
   "name": "python3"
  },
  "language_info": {
   "codemirror_mode": {
    "name": "ipython",
    "version": 3
   },
   "file_extension": ".py",
   "mimetype": "text/x-python",
   "name": "python",
   "nbconvert_exporter": "python",
   "pygments_lexer": "ipython3",
   "version": "3.10.15"
  }
 },
 "nbformat": 4,
 "nbformat_minor": 2
}
